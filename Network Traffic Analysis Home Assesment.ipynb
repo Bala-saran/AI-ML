{
 "cells": [
  {
   "cell_type": "code",
   "execution_count": 1,
   "id": "4c0238c2-393e-4d53-8203-87bfaa18e0bd",
   "metadata": {},
   "outputs": [
    {
     "name": "stdout",
     "output_type": "stream",
     "text": [
      "Requirement already satisfied: pyshark in c:\\users\\balas\\anaconda3\\lib\\site-packages (0.6)\n",
      "Requirement already satisfied: lxml in c:\\users\\balas\\anaconda3\\lib\\site-packages (from pyshark) (5.3.0)\n",
      "Requirement already satisfied: termcolor in c:\\users\\balas\\anaconda3\\lib\\site-packages (from pyshark) (3.1.0)\n",
      "Requirement already satisfied: packaging in c:\\users\\balas\\anaconda3\\lib\\site-packages (from pyshark) (24.2)\n",
      "Requirement already satisfied: appdirs in c:\\users\\balas\\anaconda3\\lib\\site-packages (from pyshark) (1.4.4)\n"
     ]
    }
   ],
   "source": [
    "!pip install pyshark"
   ]
  },
  {
   "cell_type": "code",
   "execution_count": 2,
   "id": "4ab7d473-de69-4182-becf-427cc4bd3cd2",
   "metadata": {},
   "outputs": [
    {
     "name": "stdout",
     "output_type": "stream",
     "text": [
      "assignment1.py created!\n"
     ]
    }
   ],
   "source": [
    "code = '''import pyshark\n",
    "\n",
    "# Optional: Set TShark path if needed\n",
    "# import pyshark.tshark.tshark\n",
    "# pyshark.tshark.tshark.get_tshark_path = lambda: \"C:\\\\\\\\Program Files\\\\\\\\Wireshark\\\\\\\\tshark.exe\"\n",
    "\n",
    "# Load .pcap file\n",
    "cap = pyshark.FileCapture(\"http.cap\")\n",
    "\n",
    "print(\"First 5 Packets:\")\n",
    "for i, packet in enumerate(cap):\n",
    "    if i == 5:\n",
    "        break\n",
    "    try:\n",
    "        print(f\"Packet {i+1}\")\n",
    "        print(f\"  • Number          : {packet.number}\")\n",
    "        print(f\"  • Length          : {packet.length}\")\n",
    "        print(f\"  • Highest Layer   : {packet.highest_layer}\")\n",
    "        print(f\"  • Transport Layer : {packet.transport_layer}\")\n",
    "        print(\"-\" * 50)\n",
    "    except AttributeError as e:\n",
    "        print(f\"Skipping packet {i + 1}: {e}\")\n",
    "'''\n",
    "\n",
    "# Save to assignment1.py\n",
    "with open(\"assignment1.py\", \"w\", encoding=\"utf-8\") as f:\n",
    "    f.write(code)\n",
    "\n",
    "print(\"assignment1.py created!\")\n"
   ]
  },
  {
   "cell_type": "code",
   "execution_count": 3,
   "id": "b9e3327e-e5a5-4f3a-a79e-7cd49bfacf33",
   "metadata": {},
   "outputs": [
    {
     "name": "stderr",
     "output_type": "stream",
     "text": [
      "Traceback (most recent call last):\n",
      "  File \u001b[35m\"c:\\Users\\balas\\OneDrive\\Downloads\\assignment1.py\"\u001b[0m, line \u001b[35m8\u001b[0m, in \u001b[35m<module>\u001b[0m\n",
      "    cap = pyshark.FileCapture(\"http.cap\")\n",
      "  File \u001b[35m\"c:\\Users\\balas\\anaconda3\\Lib\\site-packages\\pyshark\\capture\\file_capture.py\"\u001b[0m, line \u001b[35m47\u001b[0m, in \u001b[35m__init__\u001b[0m\n",
      "    raise FileNotFoundError(f\"[Errno 2] No such file or directory: {self.input_filepath}\")\n",
      "\u001b[1;35mFileNotFoundError\u001b[0m: \u001b[35m[Errno 2] No such file or directory: http.cap\u001b[0m\n"
     ]
    }
   ],
   "source": [
    "!python assignment1.py"
   ]
  },
  {
   "cell_type": "code",
   "execution_count": 4,
   "id": "fbd97401-abb7-4196-b67e-c65060c53ba7",
   "metadata": {},
   "outputs": [
    {
     "name": "stdout",
     "output_type": "stream",
     "text": [
      "assignment2.py\n"
     ]
    }
   ],
   "source": [
    "code = '''import pyshark\n",
    "from collections import Counter\n",
    "\n",
    "# Optional: Set TShark path if needed\n",
    "# import pyshark.tshark.tshark\n",
    "# pyshark.tshark.tshark.get_tshark_path = lambda: \"C:\\\\\\\\Program Files\\\\\\\\Wireshark\\\\\\\\tshark.exe\"\n",
    "\n",
    "cap = pyshark.FileCapture(\"http.cap\")\n",
    "\n",
    "ip_counter = Counter()\n",
    "\n",
    "print(\"Analyzing packets to count top IP Talkers...\")\n",
    "\n",
    "for packet in cap:\n",
    "    try:\n",
    "        if 'IP' in packet:\n",
    "            src_ip = packet.ip.src\n",
    "            ip_counter[src_ip] += 1\n",
    "    except AttributeError:\n",
    "        continue  # skip if IP layer missing\n",
    "\n",
    "print(\"\\\\nTop 5 IP Talkers:\")\n",
    "for ip, count in ip_counter.most_common(5):\n",
    "    print(f\"{ip} -> {count} packets\")\n",
    "'''\n",
    "\n",
    "# Overwrite assignment2.py\n",
    "with open(\"assignment2.py\", \"w\", encoding=\"utf-8\") as f:\n",
    "    f.write(code)\n",
    "\n",
    "print(\"assignment2.py\")\n"
   ]
  },
  {
   "cell_type": "code",
   "execution_count": 5,
   "id": "c4c7f22c-9ecd-4fac-bda4-6a00b43c411d",
   "metadata": {},
   "outputs": [
    {
     "name": "stderr",
     "output_type": "stream",
     "text": [
      "Traceback (most recent call last):\n",
      "  File \u001b[35m\"c:\\Users\\balas\\OneDrive\\Downloads\\assignment2.py\"\u001b[0m, line \u001b[35m8\u001b[0m, in \u001b[35m<module>\u001b[0m\n",
      "    cap = pyshark.FileCapture(\"http.cap\")\n",
      "  File \u001b[35m\"c:\\Users\\balas\\anaconda3\\Lib\\site-packages\\pyshark\\capture\\file_capture.py\"\u001b[0m, line \u001b[35m47\u001b[0m, in \u001b[35m__init__\u001b[0m\n",
      "    raise FileNotFoundError(f\"[Errno 2] No such file or directory: {self.input_filepath}\")\n",
      "\u001b[1;35mFileNotFoundError\u001b[0m: \u001b[35m[Errno 2] No such file or directory: http.cap\u001b[0m\n"
     ]
    }
   ],
   "source": [
    "!python assignment2.py"
   ]
  },
  {
   "cell_type": "code",
   "execution_count": 6,
   "id": "6573bb3d-df21-4fd3-8cb8-61e6b9bcbea8",
   "metadata": {},
   "outputs": [
    {
     "name": "stdout",
     "output_type": "stream",
     "text": [
      "assignment3.py created!\n"
     ]
    }
   ],
   "source": [
    "code = '''import pyshark\n",
    "\n",
    "# Optional: Set TShark path if needed\n",
    "# import pyshark.tshark.tshark\n",
    "# pyshark.tshark.tshark.get_tshark_path = lambda: \"C:\\\\\\\\Program Files\\\\\\\\Wireshark\\\\\\\\tshark.exe\"\n",
    "\n",
    "# Load HTTP packets only\n",
    "cap = pyshark.FileCapture(\"http.cap\", display_filter=\"http.request\")\n",
    "\n",
    "print(\"HTTP Requests Found:\")\n",
    "\n",
    "for packet in cap:\n",
    "    try:\n",
    "        host = packet.http.host\n",
    "        uri = packet.http.request_uri\n",
    "        full_url = f\"http://{host}{uri}\"\n",
    "        \n",
    "        print(f\"Host     : {host}\")\n",
    "        print(f\"URI      : {uri}\")\n",
    "        print(f\"Full URL : {full_url}\")\n",
    "        print(\"-\" * 40)\n",
    "        \n",
    "    except AttributeError:\n",
    "        continue\n",
    "'''\n",
    "\n",
    "# Save it to assignment3.py\n",
    "with open(\"assignment3.py\", \"w\", encoding=\"utf-8\") as f:\n",
    "    f.write(code)\n",
    "\n",
    "print(\"assignment3.py created!\")\n"
   ]
  },
  {
   "cell_type": "code",
   "execution_count": 7,
   "id": "e614108b-f352-45aa-a946-6696d5a7811c",
   "metadata": {},
   "outputs": [
    {
     "name": "stderr",
     "output_type": "stream",
     "text": [
      "Traceback (most recent call last):\n",
      "  File \u001b[35m\"c:\\Users\\balas\\OneDrive\\Downloads\\assignment3.py\"\u001b[0m, line \u001b[35m8\u001b[0m, in \u001b[35m<module>\u001b[0m\n",
      "    cap = pyshark.FileCapture(\"http.cap\", display_filter=\"http.request\")\n",
      "  File \u001b[35m\"c:\\Users\\balas\\anaconda3\\Lib\\site-packages\\pyshark\\capture\\file_capture.py\"\u001b[0m, line \u001b[35m47\u001b[0m, in \u001b[35m__init__\u001b[0m\n",
      "    raise FileNotFoundError(f\"[Errno 2] No such file or directory: {self.input_filepath}\")\n",
      "\u001b[1;35mFileNotFoundError\u001b[0m: \u001b[35m[Errno 2] No such file or directory: http.cap\u001b[0m\n"
     ]
    }
   ],
   "source": [
    "!python assignment3.py"
   ]
  },
  {
   "cell_type": "code",
   "execution_count": 8,
   "id": "1baa946a-9d81-4f54-af82-8f2969d33fd9",
   "metadata": {},
   "outputs": [
    {
     "name": "stdout",
     "output_type": "stream",
     "text": [
      "assignment4.py created!\n"
     ]
    }
   ],
   "source": [
    "code = '''import pyshark\n",
    "from collections import Counter\n",
    "\n",
    "# Optional: Set TShark path if needed\n",
    "# import pyshark.tshark.tshark\n",
    "# pyshark.tshark.tshark.get_tshark_path = lambda: \"C:\\\\\\\\Program Files\\\\\\\\Wireshark\\\\\\\\tshark.exe\"\n",
    "\n",
    "# Load only DNS packets\n",
    "cap = pyshark.FileCapture(\"http.cap\", display_filter=\"dns\")\n",
    "\n",
    "dns_counter = Counter()\n",
    "\n",
    "print(\"Tracking DNS Queries...\")\n",
    "\n",
    "for packet in cap:\n",
    "    try:\n",
    "        domain = packet.dns.qry_name\n",
    "        dns_counter[domain] += 1\n",
    "    except AttributeError:\n",
    "        continue\n",
    "\n",
    "print(\"\\\\nTop 10 Most Queried Domains:\")\n",
    "for domain, count in dns_counter.most_common(10):\n",
    "    print(f\"{domain} -> {count} times\")\n",
    "'''\n",
    "\n",
    "# Save to assignment4.py\n",
    "with open(\"assignment4.py\", \"w\", encoding=\"utf-8\") as f:\n",
    "    f.write(code)\n",
    "\n",
    "print(\"assignment4.py created!\")\n"
   ]
  },
  {
   "cell_type": "code",
   "execution_count": 9,
   "id": "16b11df6-e249-44f3-9903-9bacd95615c9",
   "metadata": {},
   "outputs": [
    {
     "name": "stderr",
     "output_type": "stream",
     "text": [
      "Traceback (most recent call last):\n",
      "  File \u001b[35m\"c:\\Users\\balas\\OneDrive\\Downloads\\assignment4.py\"\u001b[0m, line \u001b[35m9\u001b[0m, in \u001b[35m<module>\u001b[0m\n",
      "    cap = pyshark.FileCapture(\"http.cap\", display_filter=\"dns\")\n",
      "  File \u001b[35m\"c:\\Users\\balas\\anaconda3\\Lib\\site-packages\\pyshark\\capture\\file_capture.py\"\u001b[0m, line \u001b[35m47\u001b[0m, in \u001b[35m__init__\u001b[0m\n",
      "    raise FileNotFoundError(f\"[Errno 2] No such file or directory: {self.input_filepath}\")\n",
      "\u001b[1;35mFileNotFoundError\u001b[0m: \u001b[35m[Errno 2] No such file or directory: http.cap\u001b[0m\n"
     ]
    }
   ],
   "source": [
    "!python assignment4.py"
   ]
  },
  {
   "cell_type": "code",
   "execution_count": 10,
   "id": "2c573c44-9bcf-4080-87c2-6295117fea13",
   "metadata": {},
   "outputs": [
    {
     "name": "stdout",
     "output_type": "stream",
     "text": [
      "assignment5.py created!\n"
     ]
    }
   ],
   "source": [
    "code = '''import pyshark\n",
    "\n",
    "interface_name = 'Wi-Fi'  # Replace if needed\n",
    "\n",
    "print(\"Capturing packets on:\", interface_name)\n",
    "\n",
    "capture = pyshark.LiveCapture(interface=interface_name, display_filter='tcp.port == 80')\n",
    "\n",
    "packet_count = 0\n",
    "for packet in capture.sniff_continuously():\n",
    "    try:\n",
    "        print(f\"\\\\nPacket {packet_count + 1}\")\n",
    "        print(f\"  • Source: {packet.ip.src}\")\n",
    "        print(f\"  • Destination: {packet.ip.dst}\")\n",
    "        print(f\"  • Transport: {packet.transport_layer}\")\n",
    "        print(f\"  • Length: {packet.length}\")\n",
    "        print(\"-\" * 40)\n",
    "        packet_count += 1\n",
    "        if packet_count == 10:\n",
    "            break\n",
    "    except AttributeError:\n",
    "        continue\n",
    "'''\n",
    "\n",
    "with open(\"assignment5.py\", \"w\", encoding=\"utf-8\") as f:\n",
    "    f.write(code)\n",
    "\n",
    "print(\"assignment5.py created!\")\n"
   ]
  },
  {
   "cell_type": "code",
   "execution_count": null,
   "id": "523a8166-827f-4ac1-8c29-3065ab36b305",
   "metadata": {},
   "outputs": [],
   "source": [
    "!python assignment5.py"
   ]
  }
 ],
 "metadata": {
  "kernelspec": {
   "display_name": "base",
   "language": "python",
   "name": "python3"
  },
  "language_info": {
   "codemirror_mode": {
    "name": "ipython",
    "version": 3
   },
   "file_extension": ".py",
   "mimetype": "text/x-python",
   "name": "python",
   "nbconvert_exporter": "python",
   "pygments_lexer": "ipython3",
   "version": "3.13.5"
  }
 },
 "nbformat": 4,
 "nbformat_minor": 5
}
