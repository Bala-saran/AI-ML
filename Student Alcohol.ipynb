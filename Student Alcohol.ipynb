{
 "cells": [
  {
   "cell_type": "code",
   "execution_count": 1,
   "id": "3bba464a-dc2f-46aa-9d10-a58c9f14eab9",
   "metadata": {},
   "outputs": [],
   "source": [
    "import pandas as pd\n",
    "import numpy"
   ]
  },
  {
   "cell_type": "code",
   "execution_count": 2,
   "id": "957c9654-837c-4c56-8766-e27d03373c51",
   "metadata": {},
   "outputs": [
    {
     "name": "stdout",
     "output_type": "stream",
     "text": [
      "  school sex  age address famsize Pstatus  Medu  Fedu     Mjob      Fjob  ...  \\\n",
      "0     GP   F   18       U     GT3       A     4     4  at_home   teacher  ...   \n",
      "1     GP   F   17       U     GT3       T     1     1  at_home     other  ...   \n",
      "2     GP   F   15       U     LE3       T     1     1  at_home     other  ...   \n",
      "3     GP   F   15       U     GT3       T     4     2   health  services  ...   \n",
      "4     GP   F   16       U     GT3       T     3     3    other     other  ...   \n",
      "\n",
      "  famrel freetime  goout  Dalc  Walc health absences  G1  G2  G3  \n",
      "0      4        3      4     1     1      3        6   5   6   6  \n",
      "1      5        3      3     1     1      3        4   5   5   6  \n",
      "2      4        3      2     2     3      3       10   7   8  10  \n",
      "3      3        2      2     1     1      5        2  15  14  15  \n",
      "4      4        3      2     1     2      5        4   6  10  10  \n",
      "\n",
      "[5 rows x 33 columns]\n"
     ]
    }
   ],
   "source": [
    "csv_url = 'https://raw.githubusercontent.com/guipsamora/pandas_exercises/master/04_Apply/Students_Alcohol_Consumption/student-mat.csv'\n",
    "df = pd.read_csv(csv_url)\n",
    "print(df.head())"
   ]
  },
  {
   "cell_type": "code",
   "execution_count": 3,
   "id": "9797f186-ec03-4604-855a-b199d4d5ed1e",
   "metadata": {},
   "outputs": [
    {
     "name": "stdout",
     "output_type": "stream",
     "text": [
      "\n",
      "Step 4 - Sliced Data:\n",
      "  school sex  age address famsize Pstatus  Medu  Fedu     Mjob      Fjob  \\\n",
      "0     GP   F   18       U     GT3       A     4     4  at_home   teacher   \n",
      "1     GP   F   17       U     GT3       T     1     1  at_home     other   \n",
      "2     GP   F   15       U     LE3       T     1     1  at_home     other   \n",
      "3     GP   F   15       U     GT3       T     4     2   health  services   \n",
      "4     GP   F   16       U     GT3       T     3     3    other     other   \n",
      "\n",
      "   reason guardian  \n",
      "0  course   mother  \n",
      "1  course   father  \n",
      "2   other   mother  \n",
      "3    home   mother  \n",
      "4    home   father  \n"
     ]
    }
   ],
   "source": [
    "stud_alcoh = df.loc[:, \"school\":\"guardian\"]\n",
    "print(\"\\nStep 4 - Sliced Data:\")\n",
    "print(stud_alcoh.head())\n"
   ]
  },
  {
   "cell_type": "code",
   "execution_count": 4,
   "id": "8e57dc7e-8d56-4236-8ed6-9eeb09c6d12a",
   "metadata": {},
   "outputs": [],
   "source": [
    "capitalizer = lambda x: x.capitalize()\n"
   ]
  },
  {
   "cell_type": "code",
   "execution_count": 5,
   "id": "65d99dad-d01e-4493-8f07-93b290d62d7e",
   "metadata": {},
   "outputs": [],
   "source": [
    "stud_alcoh['Mjob'] = stud_alcoh['Mjob'].apply(capitalizer)\n",
    "stud_alcoh['Fjob'] = stud_alcoh['Fjob'].apply(capitalizer)"
   ]
  },
  {
   "cell_type": "code",
   "execution_count": 6,
   "id": "139afc73-8c96-4a3b-b111-495ffc45cc4c",
   "metadata": {},
   "outputs": [
    {
     "name": "stdout",
     "output_type": "stream",
     "text": [
      "\n",
      "Step 7 - Last 5 rows after capitalization:\n",
      "    school sex  age address famsize Pstatus  Medu  Fedu      Mjob      Fjob  \\\n",
      "390     MS   M   20       U     LE3       A     2     2  Services  Services   \n",
      "391     MS   M   17       U     LE3       T     3     1  Services  Services   \n",
      "392     MS   M   21       R     GT3       T     1     1     Other     Other   \n",
      "393     MS   M   18       R     LE3       T     3     2  Services     Other   \n",
      "394     MS   M   19       U     LE3       T     1     1     Other   At_home   \n",
      "\n",
      "     reason guardian  \n",
      "390  course    other  \n",
      "391  course   mother  \n",
      "392  course    other  \n",
      "393  course   mother  \n",
      "394  course   father  \n"
     ]
    }
   ],
   "source": [
    "print(\"\\nStep 7 - Last 5 rows after capitalization:\")\n",
    "print(stud_alcoh.tail())"
   ]
  },
  {
   "cell_type": "code",
   "execution_count": 7,
   "id": "c680c83d-eadf-4a6b-98bb-fe7758150de4",
   "metadata": {},
   "outputs": [],
   "source": [
    "def majority(x):\n",
    "    return x > 17"
   ]
  },
  {
   "cell_type": "code",
   "execution_count": 8,
   "id": "b4e5eddb-b0c0-404e-994c-eb90c4f1ac5b",
   "metadata": {},
   "outputs": [
    {
     "name": "stdout",
     "output_type": "stream",
     "text": [
      "\n",
      "Step 9 - With 'legal_drinker' column added:\n",
      "  school sex  age address famsize Pstatus  Medu  Fedu     Mjob      Fjob  \\\n",
      "0     GP   F   18       U     GT3       A     4     4  At_home   Teacher   \n",
      "1     GP   F   17       U     GT3       T     1     1  At_home     Other   \n",
      "2     GP   F   15       U     LE3       T     1     1  At_home     Other   \n",
      "3     GP   F   15       U     GT3       T     4     2   Health  Services   \n",
      "4     GP   F   16       U     GT3       T     3     3    Other     Other   \n",
      "\n",
      "   reason guardian  legal_drinker  \n",
      "0  course   mother           True  \n",
      "1  course   father          False  \n",
      "2   other   mother          False  \n",
      "3    home   mother          False  \n",
      "4    home   father          False  \n"
     ]
    }
   ],
   "source": [
    "\n",
    "stud_alcoh['legal_drinker'] = stud_alcoh['age'].apply(majority)\n",
    "print(\"\\nStep 9 - With 'legal_drinker' column added:\")\n",
    "print(stud_alcoh.head())"
   ]
  },
  {
   "cell_type": "code",
   "execution_count": 9,
   "id": "66615ca6-e970-417e-a477-0d9ceaab380f",
   "metadata": {},
   "outputs": [],
   "source": [
    "def times10(x):\n",
    "    if isinstance(x, int):\n",
    "        return x * 10\n",
    "    return x\n"
   ]
  },
  {
   "cell_type": "code",
   "execution_count": 10,
   "id": "6987f653-d612-4683-953d-88bb81205610",
   "metadata": {},
   "outputs": [
    {
     "name": "stdout",
     "output_type": "stream",
     "text": [
      "\n",
      "Step 10 - Dataset with numeric values multiplied by 10:\n",
      "  school sex  age address famsize Pstatus  Medu  Fedu      Mjob      Fjob  \\\n",
      "0     GP   F  180       U     GT3       A    40    40   At_home   Teacher   \n",
      "1     GP   F  170       U     GT3       T    10    10   At_home     Other   \n",
      "2     GP   F  150       U     LE3       T    10    10   At_home     Other   \n",
      "3     GP   F  150       U     GT3       T    40    20    Health  Services   \n",
      "4     GP   F  160       U     GT3       T    30    30     Other     Other   \n",
      "5     GP   M  160       U     LE3       T    40    30  Services     Other   \n",
      "6     GP   M  160       U     LE3       T    20    20     Other     Other   \n",
      "7     GP   F  170       U     GT3       A    40    40     Other   Teacher   \n",
      "8     GP   M  150       U     LE3       A    30    20  Services     Other   \n",
      "9     GP   M  150       U     GT3       T    30    40     Other     Other   \n",
      "\n",
      "       reason guardian  legal_drinker  \n",
      "0      course   mother             10  \n",
      "1      course   father              0  \n",
      "2       other   mother              0  \n",
      "3        home   mother              0  \n",
      "4        home   father              0  \n",
      "5  reputation   mother              0  \n",
      "6        home   mother              0  \n",
      "7        home   mother              0  \n",
      "8        home   mother              0  \n",
      "9        home   mother              0  \n"
     ]
    },
    {
     "name": "stderr",
     "output_type": "stream",
     "text": [
      "C:\\Users\\balas\\AppData\\Local\\Temp\\ipykernel_22620\\3403743851.py:1: FutureWarning: DataFrame.applymap has been deprecated. Use DataFrame.map instead.\n",
      "  multiplied_df = stud_alcoh.applymap(times10)\n"
     ]
    }
   ],
   "source": [
    "multiplied_df = stud_alcoh.applymap(times10)\n",
    "print(\"\\nStep 10 - Dataset with numeric values multiplied by 10:\")\n",
    "print(multiplied_df.head(10))"
   ]
  },
  {
   "cell_type": "code",
   "execution_count": null,
   "id": "8cf448a7-76b6-42e7-9aae-d6207099eff1",
   "metadata": {},
   "outputs": [],
   "source": []
  }
 ],
 "metadata": {
  "kernelspec": {
   "display_name": "Python [conda env:base] *",
   "language": "python",
   "name": "conda-base-py"
  },
  "language_info": {
   "codemirror_mode": {
    "name": "ipython",
    "version": 3
   },
   "file_extension": ".py",
   "mimetype": "text/x-python",
   "name": "python",
   "nbconvert_exporter": "python",
   "pygments_lexer": "ipython3",
   "version": "3.13.5"
  }
 },
 "nbformat": 4,
 "nbformat_minor": 5
}
