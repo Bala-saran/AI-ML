{
 "cells": [
  {
   "cell_type": "code",
   "execution_count": 1,
   "id": "2ec373fa-6618-4668-afc3-35c435023d0c",
   "metadata": {},
   "outputs": [],
   "source": [
    "import numpy as np"
   ]
  },
  {
   "cell_type": "code",
   "execution_count": 2,
   "id": "6c252a46-6283-4aac-8671-ef2e33a56803",
   "metadata": {},
   "outputs": [
    {
     "name": "stdin",
     "output_type": "stream",
     "text": [
      "Enter student IDs:  1 0 0 3 0 2 4 2 2 2 2\n"
     ]
    }
   ],
   "source": [
    "arr = np.array(list(map(int, input(\"Enter student IDs: \").split())))"
   ]
  },
  {
   "cell_type": "code",
   "execution_count": 3,
   "id": "18a1771c-b9a5-400b-bf1c-aebf5c4476ed",
   "metadata": {},
   "outputs": [],
   "source": [
    "_, idx = np.unique(arr, return_index=True)"
   ]
  },
  {
   "cell_type": "code",
   "execution_count": 4,
   "id": "5786340a-4a81-43a9-9d12-d1eac3e233ef",
   "metadata": {},
   "outputs": [],
   "source": [
    "duplicates = np.full(arr.shape, True)"
   ]
  },
  {
   "cell_type": "code",
   "execution_count": 5,
   "id": "e524cb80-8ef3-4171-a5d3-27b9d9389a89",
   "metadata": {},
   "outputs": [],
   "source": [
    "duplicates[idx] = False"
   ]
  },
  {
   "cell_type": "code",
   "execution_count": 6,
   "id": "e6652dbf-3667-429b-bfde-f3636fda0696",
   "metadata": {},
   "outputs": [
    {
     "name": "stdout",
     "output_type": "stream",
     "text": [
      "[False False  True False  True False False  True  True  True  True]\n"
     ]
    }
   ],
   "source": [
    "print(duplicates)"
   ]
  },
  {
   "cell_type": "code",
   "execution_count": null,
   "id": "52afb6a1-4809-45d0-8c65-f2b3ba20a55a",
   "metadata": {},
   "outputs": [],
   "source": []
  }
 ],
 "metadata": {
  "kernelspec": {
   "display_name": "Python [conda env:base] *",
   "language": "python",
   "name": "conda-base-py"
  },
  "language_info": {
   "codemirror_mode": {
    "name": "ipython",
    "version": 3
   },
   "file_extension": ".py",
   "mimetype": "text/x-python",
   "name": "python",
   "nbconvert_exporter": "python",
   "pygments_lexer": "ipython3",
   "version": "3.13.5"
  }
 },
 "nbformat": 4,
 "nbformat_minor": 5
}
